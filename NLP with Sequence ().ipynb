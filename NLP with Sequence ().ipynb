{
 "cells": [
  {
   "cell_type": "code",
   "execution_count": 1,
   "id": "0fe14265",
   "metadata": {},
   "outputs": [
    {
     "name": "stdout",
     "output_type": "stream",
     "text": [
      "WARNING:tensorflow:From C:\\Users\\mrsaa\\anaconda3\\Lib\\site-packages\\keras\\src\\losses.py:2976: The name tf.losses.sparse_softmax_cross_entropy is deprecated. Please use tf.compat.v1.losses.sparse_softmax_cross_entropy instead.\n",
      "\n"
     ]
    }
   ],
   "source": [
    "import numpy as np \n",
    "import pandas as pd\n",
    "from sklearn.model_selection import train_test_split\n",
    "from sklearn.metrics import accuracy_score, classification_report, confusion_matrix \n",
    "from tensorflow.keras.preprocessing.text import Tokenizer \n",
    "from tensorflow.keras.preprocessing.sequence import pad_sequences\n",
    "from tensorflow.keras.models import Sequential \n",
    "from tensorflow.keras.layers import Embedding, LSTM, Dense, Dropout\n",
    "from tensorflow.keras.callbacks import EarlyStopping \n",
    "import warnings"
   ]
  },
  {
   "cell_type": "code",
   "execution_count": 2,
   "id": "f68bc048",
   "metadata": {},
   "outputs": [],
   "source": [
    "# Step 1 : Data Preprocessing\n",
    "data = pd.read_csv('Train.csv') #Load dataset\n",
    "data = data.sample(frac=1)  # Shuffle dataset"
   ]
  },
  {
   "cell_type": "code",
   "execution_count": 3,
   "id": "33ecc4cc",
   "metadata": {},
   "outputs": [],
   "source": [
    "data.rename(columns={'text':'reviews' , 'label':'sentiment'},inplace=True)"
   ]
  },
  {
   "cell_type": "code",
   "execution_count": 4,
   "id": "4cc676cc",
   "metadata": {},
   "outputs": [
    {
     "data": {
      "text/plain": [
       "24059    0\n",
       "34469    0\n",
       "28131    1\n",
       "7641     0\n",
       "38728    1\n",
       "        ..\n",
       "17317    0\n",
       "8351     0\n",
       "14027    0\n",
       "17390    1\n",
       "2152     1\n",
       "Name: sentiment, Length: 40000, dtype: int64"
      ]
     },
     "execution_count": 4,
     "metadata": {},
     "output_type": "execute_result"
    }
   ],
   "source": [
    "data['sentiment']"
   ]
  },
  {
   "cell_type": "code",
   "execution_count": 5,
   "id": "c24b6da9",
   "metadata": {},
   "outputs": [],
   "source": [
    "x =  data[\"reviews\"].values\n",
    "y =  data['sentiment'].values"
   ]
  },
  {
   "cell_type": "code",
   "execution_count": 6,
   "id": "1699dbfe",
   "metadata": {},
   "outputs": [],
   "source": [
    "# Step 2 : Data Splitting\n",
    "x_train , x_test , y_train , y_test = train_test_split(x,y,test_size=0.2,random_state=42)"
   ]
  },
  {
   "cell_type": "code",
   "execution_count": 7,
   "id": "fe4f2ea1",
   "metadata": {},
   "outputs": [],
   "source": [
    "# Step 3 : Model Building\n",
    "max_words = 10000 # Number of unique words to use in tokenizer\n",
    "maxlen    = 200   # Maximun length of sequence\n",
    "embedding_dim = 128 # Dimension of word embeddings"
   ]
  },
  {
   "cell_type": "code",
   "execution_count": 8,
   "id": "09a13dca",
   "metadata": {},
   "outputs": [],
   "source": [
    "tokenizer = Tokenizer(num_words = max_words)\n",
    "tokenizer.fit_on_texts(x_train)"
   ]
  },
  {
   "cell_type": "code",
   "execution_count": 9,
   "id": "e4401ba9",
   "metadata": {},
   "outputs": [],
   "source": [
    "x_train = tokenizer.texts_to_sequences(x_train)\n",
    "x_test  = tokenizer.texts_to_sequences(x_test)"
   ]
  },
  {
   "cell_type": "code",
   "execution_count": 10,
   "id": "75a2b65b",
   "metadata": {},
   "outputs": [
    {
     "data": {
      "text/plain": [
       "array([0, 1], dtype=int64)"
      ]
     },
     "execution_count": 10,
     "metadata": {},
     "output_type": "execute_result"
    }
   ],
   "source": [
    "np.unique(y_test)"
   ]
  },
  {
   "cell_type": "code",
   "execution_count": 11,
   "id": "7e913431",
   "metadata": {},
   "outputs": [],
   "source": [
    "x_train = pad_sequences(x_train,padding='post',maxlen=maxlen)\n",
    "x_test  = pad_sequences(x_test,padding='post',maxlen= maxlen)"
   ]
  },
  {
   "cell_type": "code",
   "execution_count": 12,
   "id": "3f67319b",
   "metadata": {},
   "outputs": [
    {
     "name": "stdout",
     "output_type": "stream",
     "text": [
      "WARNING:tensorflow:From C:\\Users\\mrsaa\\anaconda3\\Lib\\site-packages\\keras\\src\\backend.py:873: The name tf.get_default_graph is deprecated. Please use tf.compat.v1.get_default_graph instead.\n",
      "\n"
     ]
    }
   ],
   "source": [
    "model = Sequential()\n",
    "model.add(Embedding(input_dim=max_words,output_dim=embedding_dim,input_length=maxlen,))\n",
    "model.add(LSTM(units=64,dropout=0.2,recurrent_dropout=0.2))\n",
    "model.add(Dense(1,activation='sigmoid'))"
   ]
  },
  {
   "cell_type": "code",
   "execution_count": 13,
   "id": "57ab92f9",
   "metadata": {},
   "outputs": [
    {
     "name": "stdout",
     "output_type": "stream",
     "text": [
      "WARNING:tensorflow:From C:\\Users\\mrsaa\\anaconda3\\Lib\\site-packages\\keras\\src\\optimizers\\__init__.py:309: The name tf.train.Optimizer is deprecated. Please use tf.compat.v1.train.Optimizer instead.\n",
      "\n"
     ]
    }
   ],
   "source": [
    "model.compile(optimizer='adam',loss='binary_crossentropy', metrics=['accuracy'])\n"
   ]
  },
  {
   "cell_type": "code",
   "execution_count": 14,
   "id": "e5c519f4",
   "metadata": {},
   "outputs": [],
   "source": [
    "# Define early stopping to prevent overfitting \n",
    "early_stopping = EarlyStopping(monitor='val_score',patience=3,restore_best_weights=True)"
   ]
  },
  {
   "cell_type": "code",
   "execution_count": 15,
   "id": "6656bf42",
   "metadata": {
    "scrolled": true
   },
   "outputs": [
    {
     "name": "stdout",
     "output_type": "stream",
     "text": [
      "Epoch 1/6\n",
      "WARNING:tensorflow:From C:\\Users\\mrsaa\\anaconda3\\Lib\\site-packages\\keras\\src\\utils\\tf_utils.py:492: The name tf.ragged.RaggedTensorValue is deprecated. Please use tf.compat.v1.ragged.RaggedTensorValue instead.\n",
      "\n",
      "WARNING:tensorflow:From C:\\Users\\mrsaa\\anaconda3\\Lib\\site-packages\\keras\\src\\engine\\base_layer_utils.py:384: The name tf.executing_eagerly_outside_functions is deprecated. Please use tf.compat.v1.executing_eagerly_outside_functions instead.\n",
      "\n",
      "225/225 [==============================] - ETA: 0s - loss: 0.5221 - accuracy: 0.7350WARNING:tensorflow:Early stopping conditioned on metric `val_score` which is not available. Available metrics are: loss,accuracy,val_loss,val_accuracy\n",
      "225/225 [==============================] - 318s 1s/step - loss: 0.5221 - accuracy: 0.7350 - val_loss: 0.4873 - val_accuracy: 0.7722\n",
      "Epoch 2/6\n",
      "225/225 [==============================] - ETA: 0s - loss: 0.5628 - accuracy: 0.7145WARNING:tensorflow:Early stopping conditioned on metric `val_score` which is not available. Available metrics are: loss,accuracy,val_loss,val_accuracy\n",
      "225/225 [==============================] - 258s 1s/step - loss: 0.5628 - accuracy: 0.7145 - val_loss: 0.6417 - val_accuracy: 0.6425\n",
      "Epoch 3/6\n",
      "225/225 [==============================] - ETA: 0s - loss: 0.6317 - accuracy: 0.6519WARNING:tensorflow:Early stopping conditioned on metric `val_score` which is not available. Available metrics are: loss,accuracy,val_loss,val_accuracy\n",
      "225/225 [==============================] - 244s 1s/step - loss: 0.6317 - accuracy: 0.6519 - val_loss: 0.6376 - val_accuracy: 0.6475\n",
      "Epoch 4/6\n",
      "225/225 [==============================] - ETA: 0s - loss: 0.6137 - accuracy: 0.6769WARNING:tensorflow:Early stopping conditioned on metric `val_score` which is not available. Available metrics are: loss,accuracy,val_loss,val_accuracy\n",
      "225/225 [==============================] - 168s 747ms/step - loss: 0.6137 - accuracy: 0.6769 - val_loss: 0.5920 - val_accuracy: 0.6909\n",
      "Epoch 5/6\n",
      "225/225 [==============================] - ETA: 0s - loss: 0.5905 - accuracy: 0.6600WARNING:tensorflow:Early stopping conditioned on metric `val_score` which is not available. Available metrics are: loss,accuracy,val_loss,val_accuracy\n",
      "225/225 [==============================] - 126s 561ms/step - loss: 0.5905 - accuracy: 0.6600 - val_loss: 0.5009 - val_accuracy: 0.8350\n",
      "Epoch 6/6\n",
      "225/225 [==============================] - ETA: 0s - loss: 0.6148 - accuracy: 0.6298WARNING:tensorflow:Early stopping conditioned on metric `val_score` which is not available. Available metrics are: loss,accuracy,val_loss,val_accuracy\n",
      "225/225 [==============================] - 121s 538ms/step - loss: 0.6148 - accuracy: 0.6298 - val_loss: 0.6196 - val_accuracy: 0.6087\n"
     ]
    },
    {
     "data": {
      "text/plain": [
       "<keras.src.callbacks.History at 0x1c5e8172d50>"
      ]
     },
     "execution_count": 15,
     "metadata": {},
     "output_type": "execute_result"
    }
   ],
   "source": [
    "# Train the model\n",
    "model.fit(x_train,y_train,epochs=6,batch_size=128,validation_split=0.1,callbacks=[early_stopping])"
   ]
  },
  {
   "cell_type": "code",
   "execution_count": 25,
   "id": "9b8d6564",
   "metadata": {},
   "outputs": [],
   "source": [
    "from tensorflow.keras.preprocessing.sequence import pad_sequences\n",
    "\n",
    "# Assuming maxlen is the maximum length of sequences\n",
    "x_test_padded = pad_sequences(x_test , maxlen=maxlen)"
   ]
  },
  {
   "cell_type": "code",
   "execution_count": 17,
   "id": "c46aefd0",
   "metadata": {},
   "outputs": [
    {
     "name": "stdout",
     "output_type": "stream",
     "text": [
      "250/250 [==============================] - 7s 28ms/step\n",
      "Accuracy: 0.618625\n",
      "Classification Report:\n",
      "               precision    recall  f1-score   support\n",
      "\n",
      "           0       0.58      0.87      0.69      3970\n",
      "           1       0.75      0.37      0.49      4030\n",
      "\n",
      "    accuracy                           0.62      8000\n",
      "   macro avg       0.66      0.62      0.59      8000\n",
      "weighted avg       0.66      0.62      0.59      8000\n",
      "\n",
      "Confusion Matrix:\n",
      " [[3463  507]\n",
      " [2544 1486]]\n"
     ]
    }
   ],
   "source": [
    "# Model Evaluation\n",
    "y_pred = model.predict(x_test_padded) \n",
    "# Convert probabilities to binary labels\n",
    "y_pred_binary = (y_pred > 0.5).astype(int)\n",
    "\n",
    "# Print accuracy, classification report, and confusion matrix\n",
    "print(\"Accuracy:\", accuracy_score(y_test, y_pred_binary))\n",
    "print(\"Classification Report:\\n\", classification_report(y_test, y_pred_binary))\n",
    "print(\"Confusion Matrix:\\n\", confusion_matrix(y_test, y_pred_binary))"
   ]
  }
 ],
 "metadata": {
  "kernelspec": {
   "display_name": "Python 3 (ipykernel)",
   "language": "python",
   "name": "python3"
  },
  "language_info": {
   "codemirror_mode": {
    "name": "ipython",
    "version": 3
   },
   "file_extension": ".py",
   "mimetype": "text/x-python",
   "name": "python",
   "nbconvert_exporter": "python",
   "pygments_lexer": "ipython3",
   "version": "3.11.5"
  }
 },
 "nbformat": 4,
 "nbformat_minor": 5
}
